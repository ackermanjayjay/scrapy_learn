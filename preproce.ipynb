{
 "cells": [
  {
   "cell_type": "code",
   "execution_count": 3,
   "metadata": {},
   "outputs": [],
   "source": [
    "import pandas as pd\n",
    "import numpy as np\n"
   ]
  },
  {
   "cell_type": "code",
   "execution_count": 4,
   "metadata": {},
   "outputs": [],
   "source": [
    "df=pd.read_csv(\"result.csv\")"
   ]
  },
  {
   "cell_type": "markdown",
   "metadata": {},
   "source": [
    "# Preprocessing"
   ]
  },
  {
   "cell_type": "markdown",
   "metadata": {},
   "source": [
    "## Regex"
   ]
  },
  {
   "cell_type": "code",
   "execution_count": 5,
   "metadata": {},
   "outputs": [],
   "source": [
    "import re\n",
    "df[\"article\"].to_list()\n",
    "hargaTolist=df[\"article\"].to_list()\n",
    "harga_tolist_join=\"\".join(hargaTolist)\n",
    "regex_harga_article = re.findall(r\"(Rp[0-9][1-9]{0,2}.\\d{3})\", harga_tolist_join)"
   ]
  },
  {
   "cell_type": "code",
   "execution_count": 6,
   "metadata": {},
   "outputs": [
    {
     "data": {
      "text/plain": [
       "'Harga Bahan Bakar Minyak (,) di seluruh ,Indonesia naik per 1 Agustus 2023 ini.,PT Pertamina (Persero) misalnya. Perusahaan pelat merah ini menaikkan harga tiga BBM nonsubsidi, yakni Pertamax Turbo, Dexlite, dan Pertamina Dex.,Seperti dikutip situs resmi Pertamina pada Senin (31/7), sejumlah provinsi di Indonesia turut menyesuaikan harga tiga BBM tersebut. DKI Jakarta contohnya, di mana harga Pertamax Turbo naik dari Rp14 ribu menjadi Rp14.400 per liter.,\\r\\nADVERTISEMENT\\r\\n,\\r\\nSCROLL TO RESUME CONTENT\\r\\n,Lalu, harga Dexlite di Jakarta juga naik dari Rp13.150 menjadi Rp13.950 per liter. Demikian pula dengan Pertamina Dex yang naik dari Rp13.550 menjadi Rp14.350 per liter.,Sementara, harga Pertalite masih bertahan di posisi Rp10 ribu per liter. Harga Pertamax juga tetap Rp12.400 per liter.,Senada, harga Pertamina Biosolar juga tetap Rp6.800 per liter.,Bergeser ke SPBU swasta, harga BBM besutan Shell pun turut naik per 1 Agustus 2023. Tercatat, harga Shell Super naik dari Rp12.920 menjadi Rp13.280 per liter.,Kemudian, Shell V-Power naik dari Rp13.780 menjadi Rp14.190 per liter. Shell V-Power Diesel naik dari Rp13.590 menjadi Rp14.410 per liter.,Selanjutnya, harga Shell V-power Nitro+ naik dari Rp14.120 menjadi Rp14.540 per liter.,Tak mau ketinggalan, harga BBM di SPBU BP juga naik. Lihat saja, BP Ultimate naik dari Rp13.780 menjadi Rp14.190 per liter. BP 92 naik dari Rp12.820 menjadi Ro12.990 per liter.,Selanjutnya, harga BP diesel naik dari Rp13.160 menjadi Rp13.970 per liter. Adapun harga BP 90 tetap di posisi Rp12.740 per liter.,Berikut daftar harga BBM di SPBU Indonesia terbaru.,- Pertamax: Rp12.400 per liter,- Pertalite: Rp10.000 per liter,- Pertamax Turbo: Rp14.400 ribu per liter,- Dexlite: Rp13.950 per liter,- Pertamina Dex: Rp14.350 per liter,- Pertamina Biosolar: Rp6.800 per liter,- Shell Super: Rp13.280 per liter,- Shell V-Power: Rp14.190 per liter,- Shell V-Power Diesel: Rp14.410 per liter,- Shell V-power Nitro+: Rp14.540 per liter,- BP Ultimate: Rp14.190 per liter,- BP 92: Rp12.990 per liter,- BP 90: Rp12.740 per liter,- BP diesel: Rp13.970 per liter,- Revvo 90: Rp11.200 per liter,- Revvo 92: Rp12.700 per liter,- Revvo 95: Rp13.580 per liter'"
      ]
     },
     "execution_count": 6,
     "metadata": {},
     "output_type": "execute_result"
    }
   ],
   "source": [
    "harga_tolist_join"
   ]
  },
  {
   "cell_type": "code",
   "execution_count": 7,
   "metadata": {},
   "outputs": [],
   "source": [
    "article_price_pertamina = re.findall(r\"(Rp[0-9][1-9]{0,2}.\\d{3})\", harga_tolist_join)\n",
    "article_pertamina = re.findall(r\"((Perta.[\\w]*.[A-z]+[\\w+]))\", harga_tolist_join)"
   ]
  },
  {
   "cell_type": "code",
   "execution_count": 85,
   "metadata": {},
   "outputs": [],
   "source": [
    "shell_bahan_bakar=np.unique([v.lower() for v in re.findall(r\"(V[-]\\w{0,6}|Di\\w{1,4}|Ni\\w{1,3})\", harga_tolist_join)])"
   ]
  },
  {
   "cell_type": "code",
   "execution_count": 86,
   "metadata": {},
   "outputs": [],
   "source": [
    "pertamina_bahan_bakar=re.findall(r\"(Per[A-z]{2,5}\\s[A-Z]\\w{4}|D\\w{0,6})\", harga_tolist_join)"
   ]
  },
  {
   "cell_type": "code",
   "execution_count": 90,
   "metadata": {},
   "outputs": [
    {
     "name": "stdout",
     "output_type": "stream",
     "text": [
      "bahan bakar shell ['diesel' 'nitro' 'v-power']\n",
      "bahan bakar pertamina ('Pertamax Turbo', 'Dexlite', 'Dex')\n"
     ]
    }
   ],
   "source": [
    "bahan_bakar_pertamina=pertamina_bahan_bakar[0],pertamina_bahan_bakar[1],pertamina_bahan_bakar[2]\n",
    "shell_bahan_bakar=np.unique([v.lower() for v in re.findall(r\"(V[-]\\w{0,6}|Di\\w{1,4}|Ni\\w{1,3})\", harga_tolist_join)])\n",
    "print(f'bahan bakar shell {shell_bahan_bakar}')\n",
    "print(f'bahan bakar pertamina {bahan_bakar_pertamina}')"
   ]
  },
  {
   "cell_type": "code",
   "execution_count": 82,
   "metadata": {},
   "outputs": [],
   "source": [
    "\n",
    "article={\n",
    "    \"Pertamina\":bahan_bakar_pertamina,\n",
    "    \"Shell\":shell_bahan_bakar\n",
    "}"
   ]
  },
  {
   "cell_type": "code",
   "execution_count": 84,
   "metadata": {},
   "outputs": [
    {
     "data": {
      "text/html": [
       "<div>\n",
       "<style scoped>\n",
       "    .dataframe tbody tr th:only-of-type {\n",
       "        vertical-align: middle;\n",
       "    }\n",
       "\n",
       "    .dataframe tbody tr th {\n",
       "        vertical-align: top;\n",
       "    }\n",
       "\n",
       "    .dataframe thead th {\n",
       "        text-align: right;\n",
       "    }\n",
       "</style>\n",
       "<table border=\"1\" class=\"dataframe\">\n",
       "  <thead>\n",
       "    <tr style=\"text-align: right;\">\n",
       "      <th></th>\n",
       "      <th>Pertamina</th>\n",
       "      <th>Shell</th>\n",
       "    </tr>\n",
       "  </thead>\n",
       "  <tbody>\n",
       "    <tr>\n",
       "      <th>0</th>\n",
       "      <td>Pertamax Turbo</td>\n",
       "      <td>diesel</td>\n",
       "    </tr>\n",
       "    <tr>\n",
       "      <th>1</th>\n",
       "      <td>Dexlite</td>\n",
       "      <td>nitro</td>\n",
       "    </tr>\n",
       "    <tr>\n",
       "      <th>2</th>\n",
       "      <td>Dex</td>\n",
       "      <td>v-power</td>\n",
       "    </tr>\n",
       "  </tbody>\n",
       "</table>\n",
       "</div>"
      ],
      "text/plain": [
       "        Pertamina    Shell\n",
       "0  Pertamax Turbo   diesel\n",
       "1         Dexlite    nitro\n",
       "2             Dex  v-power"
      ]
     },
     "execution_count": 84,
     "metadata": {},
     "output_type": "execute_result"
    }
   ],
   "source": [
    "pd.DataFrame(article)"
   ]
  }
 ],
 "metadata": {
  "kernelspec": {
   "display_name": "base",
   "language": "python",
   "name": "python3"
  },
  "language_info": {
   "codemirror_mode": {
    "name": "ipython",
    "version": 3
   },
   "file_extension": ".py",
   "mimetype": "text/x-python",
   "name": "python",
   "nbconvert_exporter": "python",
   "pygments_lexer": "ipython3",
   "version": "3.11.4"
  },
  "orig_nbformat": 4
 },
 "nbformat": 4,
 "nbformat_minor": 2
}
